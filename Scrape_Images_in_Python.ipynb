{
  "nbformat": 4,
  "nbformat_minor": 0,
  "metadata": {
    "colab": {
      "name": "Scrape Images in Python.ipynb",
      "provenance": []
    },
    "kernelspec": {
      "name": "python3",
      "display_name": "Python 3"
    }
  },
  "cells": [
    {
      "cell_type": "markdown",
      "metadata": {
        "id": "pZBrGqUguNaj"
      },
      "source": [
        "#### **Scrape Images in Python**"
      ]
    },
    {
      "cell_type": "code",
      "metadata": {
        "id": "i5lxWP_OuC9u"
      },
      "source": [
        "# importing required libraries\r\n",
        "import requests\r\n",
        "from bs4 import BeautifulSoup\r\n",
        "\r\n",
        "# target URL\r\n",
        "url = \"https://www.goibibo.com/hotels/hotels-in-shimla-ct/\"\r\n",
        "\r\n",
        "headers = {\r\n",
        "    'User-Agent': \"Mozilla/5.0 (X11; Linux x86_64) AppleWebKit/537.36 (KHTML, like Gecko) Chrome/77.0.3865.90 Safari/537.36\"\r\n",
        "  }\r\n",
        "\r\n",
        "response = requests.request(\"GET\", url, headers=headers)\r\n",
        "\r\n",
        "data = BeautifulSoup(response.text, 'html.parser')\r\n",
        "\r\n",
        "# find all with the image tag\r\n",
        "images= data.find_all('img', src=True)\r\n",
        "\r\n",
        "print('Number of Images: ', len(images))\r\n",
        "\r\n",
        "for image in images:\r\n",
        "  print(image)\r\n",
        "\r\n"
      ],
      "execution_count": null,
      "outputs": []
    },
    {
      "cell_type": "code",
      "metadata": {
        "id": "oDHJHdMdyJNL"
      },
      "source": [
        "# select src tag\r\n",
        "image_src = [x['src'] for x in images]\r\n",
        "\r\n",
        "#select only jp format images\r\n",
        "image_src = [x for x in image_src if x.endswith('.jpg')]\r\n",
        "\r\n",
        "for image in image_src:\r\n",
        "  print(image)"
      ],
      "execution_count": null,
      "outputs": []
    },
    {
      "cell_type": "code",
      "metadata": {
        "id": "NOHJcKWnGcbT"
      },
      "source": [
        "image_count = 1\r\n",
        "for image in image_src:\r\n",
        "  with open('image_'+str(image_count)+'.jpg', 'wb') as f:\r\n",
        "    res = requests.get(image)\r\n",
        "    f.write(res.content)\r\n",
        "  image_count = image_count+1"
      ],
      "execution_count": null,
      "outputs": []
    }
  ]
}